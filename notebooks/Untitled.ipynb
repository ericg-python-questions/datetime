{
 "cells": [
  {
   "cell_type": "code",
   "execution_count": 6,
   "id": "bbacda4b-89f3-4907-8666-af9052bbe8fd",
   "metadata": {},
   "outputs": [],
   "source": [
    "import datetime \n",
    "from sqlalchemy import create_engine\n",
    "import sqlalchemy as sa\n",
    "from sqlalchemy.ext.declarative import declarative_base\n",
    "from sqlalchemy.orm import scoped_session, sessionmaker, relationship, backref\n",
    "from marshmallow_sqlalchemy import ModelSchema\n",
    "import toastedmarshmallow"
   ]
  },
  {
   "cell_type": "code",
   "execution_count": 7,
   "id": "076d6fd2-c654-432a-a5ab-d214ab9dc926",
   "metadata": {},
   "outputs": [],
   "source": [
    "engine = create_engine('postgresql://localhost:5432/ericg')\n",
    "session = scoped_session(sessionmaker(bind=engine))\n",
    "Base = declarative_base()"
   ]
  },
  {
   "cell_type": "code",
   "execution_count": 8,
   "id": "05268d35-e1d6-456a-bcff-241531cb9f7b",
   "metadata": {},
   "outputs": [
    {
     "name": "stdout",
     "output_type": "stream",
     "text": [
      "2022-08-12 18:30:00\n"
     ]
    },
    {
     "data": {
      "text/plain": [
       "datetime.datetime(2022, 8, 12, 18, 30)"
      ]
     },
     "execution_count": 8,
     "metadata": {},
     "output_type": "execute_result"
    }
   ],
   "source": [
    "result_set = engine.execute(\"SELECT * FROM newtable\")  \n",
    "for r in result_set:  \n",
    "    a = r[0]\n",
    "print(a)\n",
    "a"
   ]
  },
  {
   "cell_type": "code",
   "execution_count": 9,
   "id": "9311752f-f953-4b71-9a3f-b845083588f6",
   "metadata": {},
   "outputs": [],
   "source": [
    "class TheTime(Base):\n",
    "    __tablename__ = 'newtable'\n",
    "    __table_args__ = {'extend_existing': True}\n",
    "    id = sa.Column(sa.Integer, primary_key=True)\n",
    "    start_time = sa.Column(sa.TIMESTAMP)\n",
    "\n",
    "    def __repr__(self):\n",
    "        return f'{start_time}'\n",
    "\n",
    "Base.metadata.create_all(engine)"
   ]
  },
  {
   "cell_type": "code",
   "execution_count": 10,
   "id": "3b7488d9-ce0a-4436-9304-c802cec14f50",
   "metadata": {},
   "outputs": [],
   "source": [
    "class TheTimeSchema(ModelSchema):\n",
    "    class Meta:\n",
    "        model = TheTime"
   ]
  },
  {
   "cell_type": "code",
   "execution_count": 11,
   "id": "8dd0c076-8ecc-4680-bcb5-3310c1e132ff",
   "metadata": {},
   "outputs": [],
   "source": [
    "timeResult = session.query(TheTime).first()"
   ]
  },
  {
   "cell_type": "code",
   "execution_count": 12,
   "id": "aae1439a-5664-4b2a-8721-b4d577baad2f",
   "metadata": {},
   "outputs": [
    {
     "name": "stdout",
     "output_type": "stream",
     "text": [
      "2022-08-12 18:30:00\n"
     ]
    }
   ],
   "source": [
    "print( timeResult.start_time )"
   ]
  },
  {
   "cell_type": "code",
   "execution_count": 13,
   "id": "c786d23f-868d-44ee-a89b-cac7e07f1b6a",
   "metadata": {},
   "outputs": [],
   "source": [
    "timeSchema = TheTimeSchema()"
   ]
  },
  {
   "cell_type": "code",
   "execution_count": 14,
   "id": "7512a84d-335f-42e3-8f8f-0469e208c7de",
   "metadata": {},
   "outputs": [
    {
     "data": {
      "text/plain": [
       "MarshalResult(data={'id': 1, 'start_time': '2022-08-12T18:30:00+00:00'}, errors={})"
      ]
     },
     "execution_count": 14,
     "metadata": {},
     "output_type": "execute_result"
    }
   ],
   "source": [
    "timeSchema.dump(timeResult)"
   ]
  },
  {
   "cell_type": "code",
   "execution_count": 15,
   "id": "1b42c21f-910c-4ef8-9a1f-c2fce45c7864",
   "metadata": {},
   "outputs": [
    {
     "data": {
      "text/plain": [
       "{'id': 1, 'start_time': '2022-08-12T18:30:00+00:00'}"
      ]
     },
     "execution_count": 15,
     "metadata": {},
     "output_type": "execute_result"
    }
   ],
   "source": [
    "timeSchema.dump(timeResult).data"
   ]
  },
  {
   "cell_type": "code",
   "execution_count": null,
   "id": "8138937e-c927-4373-9be7-984b11db7a60",
   "metadata": {},
   "outputs": [],
   "source": []
  }
 ],
 "metadata": {
  "kernelspec": {
   "display_name": "Python 3 (ipykernel)",
   "language": "python",
   "name": "python3"
  },
  "language_info": {
   "codemirror_mode": {
    "name": "ipython",
    "version": 3
   },
   "file_extension": ".py",
   "mimetype": "text/x-python",
   "name": "python",
   "nbconvert_exporter": "python",
   "pygments_lexer": "ipython3",
   "version": "3.9.1"
  }
 },
 "nbformat": 4,
 "nbformat_minor": 5
}
